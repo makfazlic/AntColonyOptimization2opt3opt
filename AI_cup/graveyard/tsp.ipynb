{
 "cells": [
  {
   "cell_type": "markdown",
   "metadata": {},
   "source": [
    "# AI Cup test\n",
    "\n",
    "_Some possible solutions_\n",
    "\n",
    "- Brute force\n",
    "- DP\n",
    "- LKH\n",
    "- concorde\n",
    "- ACO\n",
    "- christofides\n",
    "- Simulated Annealing\n",
    "\n",
    "Important - changed euclidian distance could result in bugs\n"
   ]
  },
  {
   "cell_type": "code",
   "execution_count": 79,
   "metadata": {},
   "outputs": [],
   "source": [
    "debug = True\n",
    "SEED = 69"
   ]
  },
  {
   "cell_type": "markdown",
   "metadata": {},
   "source": [
    "Module import\n"
   ]
  },
  {
   "cell_type": "code",
   "execution_count": 80,
   "metadata": {},
   "outputs": [],
   "source": [
    "import glob\n",
    "import random\n",
    "import numpy as np\n",
    "from matplotlib import pyplot as plt\n",
    "random.seed(a=SEED, version=2)"
   ]
  },
  {
   "cell_type": "markdown",
   "metadata": {},
   "source": [
    "Load problems and check\n"
   ]
  },
  {
   "cell_type": "code",
   "execution_count": 81,
   "metadata": {},
   "outputs": [
    {
     "name": "stdout",
     "output_type": "stream",
     "text": [
      "Files loaded\n"
     ]
    }
   ],
   "source": [
    "problems = glob.glob('./problems/*.tsp')\n",
    "print(\"Files loaded\" if np.all([n in ['./problems/fl1577.tsp','./problems/pr439.tsp','./problems/ch130.tsp','./problems/rat783.tsp','./problems/d198.tsp', './problems/kroA100.tsp','./problems/u1060.tsp','./problems/lin318.tsp','./problems/eil76.tsp','./problems/pcb442.tsp'] for n in problems]) else \"Missing files\")"
   ]
  },
  {
   "cell_type": "markdown",
   "metadata": {},
   "source": [
    "Overview of the problem headers\n"
   ]
  },
  {
   "cell_type": "code",
   "execution_count": 82,
   "metadata": {},
   "outputs": [],
   "source": [
    "for problem in problems:\n",
    "    if(debug):\n",
    "        break\n",
    "    with open(problem,\"r\") as probfile:\n",
    "        file = probfile.read().splitlines()\n",
    "        print(file[0])\n",
    "        print(file[1])\n",
    "        print(file[2])\n",
    "        print(file[3])\n",
    "        print(file[4])\n",
    "        print(file[5])\n",
    "        print()"
   ]
  },
  {
   "cell_type": "markdown",
   "metadata": {},
   "source": [
    "Euclidian distance\n"
   ]
  },
  {
   "cell_type": "code",
   "execution_count": 83,
   "metadata": {},
   "outputs": [],
   "source": [
    "def distance_euc(point_i, point_j):\n",
    "    rounding = 0\n",
    "    x_i, y_i = point_i[0], point_i[1]\n",
    "    x_j, y_j = point_j[0], point_j[1]\n",
    "    distance = np.sqrt((x_i - x_j) ** 2 + (y_i - y_j) ** 2)\n",
    "    return round(distance, rounding)"
   ]
  },
  {
   "cell_type": "markdown",
   "metadata": {},
   "source": [
    "Implement the plot function and test of euclidian distance\n"
   ]
  },
  {
   "cell_type": "code",
   "execution_count": 84,
   "metadata": {},
   "outputs": [],
   "source": [
    "def plot_euc(point_1, point_2):\n",
    "    plt.figure(figsize=(5,5))\n",
    "    distance = distance_euc(point_1, point_2)\n",
    "    plt.xlim(0, max(point_1[0], point_2[0])+1)\n",
    "    plt.ylim(0, max(point_1[1], point_2[1])+1)\n",
    "    plt.grid()\n",
    "    plt.plot(point_1[0], point_1[1], marker=\"o\", markersize=10, markerfacecolor=\"blue\")\n",
    "    plt.plot(point_2[0], point_2[1], marker=\"o\", markersize=10, markerfacecolor=\"blue\")\n",
    "    plt.plot([point_1[0], point_2[0]], [point_1[1], point_2[1]], color=\"blue\")\n",
    "    title = f\"Distance between {point_1} and {point_2} is: \", distance\n",
    "    plt.title(title)\n",
    "    plt.show()\n",
    "\n",
    "for x in range(10):\n",
    "    if(debug):\n",
    "        break\n",
    "    plot_euc([random.randint(0,100), random.randint(0,100)], [random.randint(0,100), random.randint(0,100)])"
   ]
  },
  {
   "cell_type": "markdown",
   "metadata": {},
   "source": [
    "Wrap points (To have full tour)\n"
   ]
  },
  {
   "cell_type": "code",
   "execution_count": 85,
   "metadata": {},
   "outputs": [],
   "source": [
    "def wrap_points(points):\n",
    "    points = np.append(points, [points[0]],axis=0)\n",
    "    return points"
   ]
  },
  {
   "cell_type": "markdown",
   "metadata": {},
   "source": [
    "Total euclidian distance over all points\n"
   ]
  },
  {
   "cell_type": "code",
   "execution_count": 86,
   "metadata": {},
   "outputs": [],
   "source": [
    "def total_euc(points):\n",
    "    total = 0\n",
    "    for i in range(len(points)-1):\n",
    "        total += distance_euc(points[i],points[i+1])\n",
    "    return total"
   ]
  },
  {
   "cell_type": "markdown",
   "metadata": {},
   "source": [
    "Implement the plot function and test of total euclidian distance\n"
   ]
  },
  {
   "cell_type": "code",
   "execution_count": 87,
   "metadata": {},
   "outputs": [],
   "source": [
    "def plot_euc_total(points):\n",
    "    plt.figure(figsize=(5, 5))\n",
    "    total = total_euc(points)\n",
    "    plt.title((\"Total distance is: \", total))\n",
    "    plt.plot([point[0] for point in points] , [point[1] for point in points], 'b-')\n",
    "    for i in range(len(points)-1): \n",
    "        plt.annotate(points[i], (points[i][0], points[i+1][1]))\n",
    "    plt.show()\n",
    "\n",
    "for x in range(10):\n",
    "    if(debug):\n",
    "        break\n",
    "    test_points = []\n",
    "    for y in range(np.random.randint(30)):\n",
    "        a, b = np.random.randint(100, size=2)\n",
    "        test_points.append((a, b))\n",
    "    plot_euc_total(test_points)"
   ]
  },
  {
   "cell_type": "markdown",
   "metadata": {},
   "source": [
    "Distance matrix (dimension x dimension)\n"
   ]
  },
  {
   "cell_type": "code",
   "execution_count": 88,
   "metadata": {},
   "outputs": [],
   "source": [
    "def distance_matrix(points, dimension):\n",
    "    matrix = np.zeros((dimension, dimension))\n",
    "    for i in range(dimension):\n",
    "        for j in range(i, dimension):\n",
    "            if (i == j):\n",
    "                matrix[i, j] = np.inf\n",
    "            else:\n",
    "                matrix[i, j] = distance_euc(points[i], points[j])\n",
    "        matrix += matrix.T\n",
    "    return matrix"
   ]
  },
  {
   "cell_type": "markdown",
   "metadata": {},
   "source": [
    "Extract problem details from a file\n"
   ]
  },
  {
   "cell_type": "code",
   "execution_count": 89,
   "metadata": {},
   "outputs": [],
   "source": [
    "def extract_problem(path):\n",
    "    info = {}\n",
    "    with open(path, \"r\") as problem:\n",
    "        lines = problem.read().splitlines()\n",
    "        info[\"name\"] = \" \".join(lines[0].split(\" \")[1:])\n",
    "        info[\"type\"] = \" \".join(lines[1].split(\" \")[1:])\n",
    "        info[\"comment\"] = \" \".join(lines[2].split(\" \")[1:])\n",
    "        info[\"dimension\"] = int(\" \".join(lines[3].split(\" \")[1:]))\n",
    "        info[\"edge_weight_type\"] = \" \".join(lines[4].split(\" \")[1:])\n",
    "        info[\"best_known\"] = \" \".join(lines[5].split(\" \")[1:])\n",
    "        info[\"wrapped\"] = False\n",
    "        dimension = int(info[\"dimension\"])    \n",
    "        points = []\n",
    "        lines = lines[7:]\n",
    "        lines.pop()\n",
    "        for pointline in lines:\n",
    "            pointline = pointline.split(\" \")\n",
    "            points.append([float(pointline[1]),float(pointline[2])])        \n",
    "        assert dimension == len(points)\n",
    "        points = np.array(points, dtype=np.float128)\n",
    "        info[\"points\"] = points\n",
    "        info[\"distance_matrix\"] = distance_matrix(points, dimension)\n",
    "    return info"
   ]
  },
  {
   "cell_type": "markdown",
   "metadata": {},
   "source": [
    "# Solvers\n",
    "\n",
    "Solver API calls for solver as [solvername]\\_[py,rust]\\_solver(problem_object) and returns -> distance, path\n"
   ]
  },
  {
   "cell_type": "markdown",
   "metadata": {},
   "source": [
    "Random method for finding best path\n"
   ]
  },
  {
   "cell_type": "code",
   "execution_count": 90,
   "metadata": {},
   "outputs": [],
   "source": [
    "def random_py_solver(problem_object):\n",
    "    dimension = int(problem_object[\"dimension\"])\n",
    "    path = np.random.choice(np.arange(dimension), size=dimension,\n",
    "                            replace=False)\n",
    "    distance = 0\n",
    "    if problem_object[\"wrapped\"]:\n",
    "        distance = total_euc(problem_object[\"points\"])\n",
    "    else:\n",
    "        distance = total_euc(wrap_points(problem_object[\"points\"]))\n",
    "    return distance, path"
   ]
  },
  {
   "cell_type": "markdown",
   "metadata": {},
   "source": [
    "# Hyperparameter tuning\n"
   ]
  },
  {
   "cell_type": "code",
   "execution_count": 91,
   "metadata": {},
   "outputs": [
    {
     "ename": "ImportError",
     "evalue": "Numba needs NumPy 1.21 or less",
     "output_type": "error",
     "traceback": [
      "\u001b[0;31m---------------------------------------------------------------------------\u001b[0m",
      "\u001b[0;31mImportError\u001b[0m                               Traceback (most recent call last)",
      "Cell \u001b[0;32mIn [91], line 1\u001b[0m\n\u001b[0;32m----> 1\u001b[0m \u001b[38;5;28;01mfrom\u001b[39;00m \u001b[38;5;21;01mACO\u001b[39;00m \u001b[38;5;28;01mimport\u001b[39;00m \u001b[38;5;241m*\u001b[39m\n\u001b[1;32m      3\u001b[0m \u001b[38;5;28;01mdef\u001b[39;00m \u001b[38;5;21mACO_py_for_hyperparameters\u001b[39m(\n\u001b[1;32m      4\u001b[0m     points,\n\u001b[1;32m      5\u001b[0m     d_matrix,\n\u001b[0;32m   (...)\u001b[0m\n\u001b[1;32m     13\u001b[0m     tau0\n\u001b[1;32m     14\u001b[0m ):\n\u001b[1;32m     15\u001b[0m     ants \u001b[38;5;241m=\u001b[39m AntOpt(\n\u001b[1;32m     16\u001b[0m         points,\n\u001b[1;32m     17\u001b[0m         d_matrix,\n\u001b[0;32m   (...)\u001b[0m\n\u001b[1;32m     25\u001b[0m         tau0\n\u001b[1;32m     26\u001b[0m     )\n",
      "File \u001b[0;32m~/Desktop/tsp/ACO.py:6\u001b[0m\n\u001b[1;32m      4\u001b[0m \u001b[39mfrom\u001b[39;00m \u001b[39mpathlib\u001b[39;00m \u001b[39mimport\u001b[39;00m Path\n\u001b[1;32m      5\u001b[0m \u001b[39mfrom\u001b[39;00m \u001b[39mtqdm\u001b[39;00m \u001b[39mimport\u001b[39;00m trange\n\u001b[0;32m----> 6\u001b[0m \u001b[39mfrom\u001b[39;00m \u001b[39mnumba\u001b[39;00m \u001b[39mimport\u001b[39;00m cuda\n\u001b[1;32m      8\u001b[0m \u001b[39m@cuda\u001b[39m\u001b[39m.\u001b[39mjit\n\u001b[1;32m      9\u001b[0m \u001b[39mclass\u001b[39;00m \u001b[39mAntOpt\u001b[39;00m():\n\u001b[1;32m     10\u001b[0m     \u001b[39mdef\u001b[39;00m \u001b[39m__init__\u001b[39m(\u001b[39mself\u001b[39m,\n\u001b[1;32m     11\u001b[0m                  points,\n\u001b[1;32m     12\u001b[0m                  d_matrix \u001b[39m=\u001b[39m \u001b[39mNone\u001b[39;00m,\n\u001b[0;32m   (...)\u001b[0m\n\u001b[1;32m     20\u001b[0m                  tau0\u001b[39m=\u001b[39m\u001b[39m1e-4\u001b[39m      \u001b[39m# initial pheromone level\u001b[39;00m\n\u001b[1;32m     21\u001b[0m                 ):\n",
      "File \u001b[0;32m~/anaconda3/envs/tspenv/lib/python3.10/site-packages/numba/__init__.py:200\u001b[0m\n\u001b[1;32m    197\u001b[0m     \u001b[39mreturn\u001b[39;00m \u001b[39mFalse\u001b[39;00m\n\u001b[1;32m    199\u001b[0m _ensure_llvm()\n\u001b[0;32m--> 200\u001b[0m _ensure_critical_deps()\n\u001b[1;32m    202\u001b[0m \u001b[39m# we know llvmlite is working as the above tests passed, import it now as SVML\u001b[39;00m\n\u001b[1;32m    203\u001b[0m \u001b[39m# needs to mutate runtime options (sets the `-vector-library`).\u001b[39;00m\n\u001b[1;32m    204\u001b[0m \u001b[39mimport\u001b[39;00m \u001b[39mllvmlite\u001b[39;00m\n",
      "File \u001b[0;32m~/anaconda3/envs/tspenv/lib/python3.10/site-packages/numba/__init__.py:140\u001b[0m, in \u001b[0;36m_ensure_critical_deps\u001b[0;34m()\u001b[0m\n\u001b[1;32m    138\u001b[0m     \u001b[39mraise\u001b[39;00m \u001b[39mImportError\u001b[39;00m(\u001b[39m\"\u001b[39m\u001b[39mNumba needs NumPy 1.18 or greater\u001b[39m\u001b[39m\"\u001b[39m)\n\u001b[1;32m    139\u001b[0m \u001b[39melif\u001b[39;00m numpy_version \u001b[39m>\u001b[39m (\u001b[39m1\u001b[39m, \u001b[39m21\u001b[39m):\n\u001b[0;32m--> 140\u001b[0m     \u001b[39mraise\u001b[39;00m \u001b[39mImportError\u001b[39;00m(\u001b[39m\"\u001b[39m\u001b[39mNumba needs NumPy 1.21 or less\u001b[39m\u001b[39m\"\u001b[39m)\n\u001b[1;32m    142\u001b[0m \u001b[39mtry\u001b[39;00m:\n\u001b[1;32m    143\u001b[0m     \u001b[39mimport\u001b[39;00m \u001b[39mscipy\u001b[39;00m\n",
      "\u001b[0;31mImportError\u001b[0m: Numba needs NumPy 1.21 or less"
     ]
    }
   ],
   "source": [
    "from ACO import *\n",
    "\n",
    "def ACO_py_for_hyperparameters(\n",
    "    points,\n",
    "    d_matrix,\n",
    "    seed,\n",
    "    n_iter,\n",
    "    n_ants,\n",
    "    alpha,\n",
    "    beta,\n",
    "    rho,\n",
    "    Q,\n",
    "    tau0\n",
    "):\n",
    "    ants = AntOpt(\n",
    "        points,\n",
    "        d_matrix,\n",
    "        seed,     \n",
    "        n_iter,    \n",
    "        n_ants,     \n",
    "        alpha,       \n",
    "        beta,        \n",
    "        rho,      \n",
    "        Q,         \n",
    "        tau0\n",
    "    )\n",
    "    #print(ants)\n",
    "    result = ants.run_ants()\n",
    "    #print(result)\n",
    "    #ants.plot_path(result[1])\n",
    "    return result[1]\n",
    "\n",
    "\n",
    "problem = extract_problem(problems[2])\n",
    "distance = problem[\"distance_matrix\"]\n",
    "points = problem[\"points\"]\n",
    "ACO_py_for_hyperparameters(points, None, SEED, 500, 30, 2, 3, 0.99, 0.2, 1e-4)\n"
   ]
  },
  {
   "cell_type": "code",
   "execution_count": 92,
   "metadata": {},
   "outputs": [
    {
     "name": "stdout",
     "output_type": "stream",
     "text": [
      "Ant range -------  [ 1.   7.3 13.6 19.9 26.2]\n",
      "Alpha range -----  [0.  0.6 1.2 1.8 2.4]\n",
      "Beta range ------  [0.  0.6 1.2 1.8 2.4]\n",
      "Rho range -------  [0.5 0.6 0.7 0.8 0.9]\n",
      "Q range ---------  [0.1  0.28 0.46 0.64 0.82]\n",
      "Tau0 range ------  [1.00000e-05 2.00008e-01 4.00006e-01 6.00004e-01 8.00002e-01]\n",
      "HYPERPARAMETERS size (625, 4)\n",
      "\n",
      "[13.6  0.   0.   0.5]\n"
     ]
    }
   ],
   "source": [
    "def get_step(min, max, step_count):\n",
    "  return (max-min)/step_count\n",
    "\n",
    "\n",
    "def ACO_py_hyperparameter(steps):\n",
    "\n",
    "  for problem in problems:\n",
    "    problem_object = extract_problem(problem)\n",
    "    problem_name = problem_object[\"name\"]\n",
    "    problem_points = problem_object[\"points\"]\n",
    "    problem_dimension = problem_object[\"dimension\"]\n",
    "\n",
    "    max_ants = problem_dimension/4\n",
    "    min_ants = 1\n",
    "    step_ants = get_step(min_ants, max_ants, steps)\n",
    "    hyper_ants = np.arange(min_ants, max_ants, step_ants)\n",
    "\n",
    "    max_alpha = 4\n",
    "    min_alpha = 0.5\n",
    "    step_alpha = get_step(min_alpha, max_alpha, steps)\n",
    "    hyper_alpha = np.arange(min_alpha, max_alpha, step_alpha)\n",
    "\n",
    "    max_beta = 4\n",
    "    min_beta = 0.5\n",
    "    step_beta = get_step(min_beta, max_beta, steps)\n",
    "    hyper_beta = np.arange(min_beta, max_beta, step_beta)\n",
    "\n",
    "    max_rho = 1\n",
    "    min_rho = 0.5\n",
    "    step_rho = get_step(min_rho, max_rho, steps)\n",
    "    hyper_rho = np.arange(min_rho, max_rho, step_rho)\n",
    "\n",
    "    max_Q = 1\n",
    "    min_Q = 0.1\n",
    "    step_Q = get_step(min_Q, max_Q, steps)\n",
    "    hyper_Q = np.arange(min_Q, max_Q, step_Q)\n",
    "\n",
    "    max_tau0 = 1\n",
    "    min_tau0 = 1e-5\n",
    "    step_tau0 = get_step(min_tau0, max_tau0, steps)\n",
    "    hyper_tau0 = np.arange(min_tau0, max_tau0, step_tau0)\n",
    "\n",
    "    hyperparameters = np.array(np.meshgrid(\n",
    "      hyper_ants,\n",
    "      hyper_alpha,\n",
    "      hyper_beta,\n",
    "      hyper_rho,\n",
    "      #hyper_Q,\n",
    "      #hyper_tau0\n",
    "    )).T.reshape(-1, 4)\n",
    "\n",
    "    print(\"Ant range ------- \", hyper_ants)\n",
    "    print(\"Alpha range ----- \", hyper_alpha)\n",
    "    print(\"Beta range ------ \", hyper_beta)\n",
    "    print(\"Rho range ------- \", hyper_rho)\n",
    "    print(\"Q range --------- \", hyper_Q)\n",
    "    print(\"Tau0 range ------ \", hyper_tau0)\n",
    "    print(\"HYPERPARAMETERS size\", hyperparameters.shape)\n",
    "    print()\n",
    "    print(hyperparameters[10])\n",
    "    break\n",
    "\n",
    "  \n",
    "\n",
    "    \n",
    "ACO_py_hyperparameter(5)"
   ]
  },
  {
   "cell_type": "code",
   "execution_count": null,
   "metadata": {},
   "outputs": [],
   "source": [
    "from ACO import *\n",
    "\n",
    "def ACO_py_solver(problem_object):\n",
    "    distance = problem_object[\"distance_matrix\"]\n",
    "    points = problem_object[\"points\"]\n",
    "    ants = AntOpt(\n",
    "        points,        # Points of TSP\n",
    "        d_matrix = None,\n",
    "        seed=SEED,     # Seed of the model\n",
    "        n_iter=500,    # Number of iterations\n",
    "        n_ants=30,     # Number of ants\n",
    "        alpha=2,       # pheromone importance\n",
    "        beta=3,        # local importance heuristic\n",
    "        rho=0.99,      # evaporation factor\n",
    "        Q=0.2,         # pheromone amplification factor\n",
    "        tau0=1e-4 \n",
    "    )\n",
    "    print(ants)\n",
    "    best_path = ants.run_ants()\n",
    "    ants.plot_path(best_path)\n",
    "\n",
    "\n",
    "\n",
    "ACO_py_solver(extract_problem(problems[2]))\n"
   ]
  }
 ],
 "metadata": {
  "kernelspec": {
   "display_name": "Python 3.10.4 ('tspenv')",
   "language": "python",
   "name": "python3"
  },
  "language_info": {
   "codemirror_mode": {
    "name": "ipython",
    "version": 3
   },
   "file_extension": ".py",
   "mimetype": "text/x-python",
   "name": "python",
   "nbconvert_exporter": "python",
   "pygments_lexer": "ipython3",
   "version": "3.10.4"
  },
  "orig_nbformat": 4,
  "vscode": {
   "interpreter": {
    "hash": "b7b81322535b9e8abcd826e880e7116242463a92cd2501cb5489e27e1ea7597c"
   }
  }
 },
 "nbformat": 4,
 "nbformat_minor": 2
}
